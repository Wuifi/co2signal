{
 "cells": [
  {
   "cell_type": "code",
   "execution_count": 59,
   "metadata": {},
   "outputs": [],
   "source": [
    "#!/usr/bin/python3\n",
    "\n",
    "import logging\n",
    "import requests\n",
    "import time\n",
    "from datetime import datetime\n",
    "import pandas as pd\n",
    "\n",
    "from app_functions import *\n",
    "from influx import *\n",
    "\n",
    "#api token etc. see file securestuff.py\n",
    "from securestuff import *\n"
   ]
  },
  {
   "cell_type": "code",
   "execution_count": 221,
   "metadata": {},
   "outputs": [
    {
     "name": "stdout",
     "output_type": "stream",
     "text": [
      "<class 'str'>\n"
     ]
    },
    {
     "data": {
      "text/plain": [
       "\"['DE','BE']\""
      ]
     },
     "execution_count": 221,
     "metadata": {},
     "output_type": "execute_result"
    }
   ],
   "source": [
    "\n",
    "import ast\n",
    "countryCodes_list=\"['DE','BE']\"\n",
    "countryCodes=ast.literal_eval(countryCodes_list)\n",
    "countryCodes\n",
    "\n"
   ]
  },
  {
   "cell_type": "code",
   "execution_count": null,
   "metadata": {},
   "outputs": [],
   "source": [
    "zones_resp=getCO2zones(myapitoken)\n",
    "print(zones_resp.status_code)\n",
    "zones_dict=zones_resp.json()\n",
    "#zones_dict\n",
    "#for key in zones_dict:\n",
    "#    print(key)"
   ]
  },
  {
   "cell_type": "code",
   "execution_count": 216,
   "metadata": {},
   "outputs": [
    {
     "name": "stdout",
     "output_type": "stream",
     "text": [
      "200\n",
      "DE\n",
      "{'datetime': '2022-03-25T04:00:00.000Z', 'carbonIntensity': 518, 'fossilFuelPercentage': 66.58}\n",
      "datetime -> 2022-03-25T04:00:00.000Z\n",
      "carbonIntensity -> 518\n",
      "fossilFuelPercentage -> 66.58\n",
      "200\n",
      "BE\n",
      "{'datetime': '2022-03-25T03:00:00.000Z', 'carbonIntensity': 221, 'fossilFuelPercentage': 36.49}\n",
      "datetime -> 2022-03-25T03:00:00.000Z\n",
      "carbonIntensity -> 221\n",
      "fossilFuelPercentage -> 36.49\n"
     ]
    }
   ],
   "source": [
    "influxclient=initinfluxclient(dbhost, dbport, dbuser, dbpasswd, dbname)\n",
    "#uptime=0\n",
    "#duration=0\n",
    "#start = int(datetime.utcnow().timestamp() * 1000) \n",
    "\n",
    "while True:\n",
    "    df=getdatafromAPIforzones(countryCodes,api_request_pause,myapitoken)\n",
    "    write2influx(influxclient,protocol,measurement,df)\n",
    "    time.sleep(api_request_interval)"
   ]
  },
  {
   "cell_type": "code",
   "execution_count": 217,
   "metadata": {},
   "outputs": [],
   "source": [
    "df.to_pickle(\"./test.pkl\")  \n",
    "#df=pd.read_pickle(\"./test.pkl\") \n",
    "#df"
   ]
  }
 ],
 "metadata": {
  "interpreter": {
   "hash": "b3ba2566441a7c06988d0923437866b63cedc61552a5af99d1f4fb67d367b25f"
  },
  "kernelspec": {
   "display_name": "Python 3.8.8 ('base')",
   "language": "python",
   "name": "python3"
  },
  "language_info": {
   "codemirror_mode": {
    "name": "ipython",
    "version": 3
   },
   "file_extension": ".py",
   "mimetype": "text/x-python",
   "name": "python",
   "nbconvert_exporter": "python",
   "pygments_lexer": "ipython3",
   "version": "3.8.8"
  },
  "orig_nbformat": 4
 },
 "nbformat": 4,
 "nbformat_minor": 2
}
